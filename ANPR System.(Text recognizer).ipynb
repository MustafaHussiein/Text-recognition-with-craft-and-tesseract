{
 "cells": [
  {
   "cell_type": "markdown",
   "metadata": {},
   "source": [
    "Installing the main libraries"
   ]
  },
  {
   "cell_type": "code",
   "execution_count": 1,
   "metadata": {},
   "outputs": [],
   "source": [
    "# !pip install --upgrade tensorflow --user\n",
    "# !pip install craft-text-detector\n",
    "# !pip install scikit-learn"
   ]
  },
  {
   "cell_type": "markdown",
   "metadata": {},
   "source": [
    "Importing the needed libraries"
   ]
  },
  {
   "cell_type": "code",
   "execution_count": 6,
   "metadata": {},
   "outputs": [],
   "source": [
    "import numpy as np\n",
    "import cv2\n",
    "from pathlib import Path\n",
    "from PIL import Image\n",
    "import tkinter as tk\n",
    "from tkinter import filedialog\n",
    "import pytesseract as tess\n",
    "tess.pytesseract.tesseract_cmd = \"C:/Program Files/Tesseract-OCR/tesseract.exe\"\n",
    "import os\n",
    "\n",
    "import re\n",
    "import pytesseract\n",
    "# os.environ['TF_CPP_MIN_LOG_LEVEL'] = '3'\n",
    "\n",
    "\n",
    "import cv2\n",
    "import numpy as np\n",
    "import string\n",
    "import pandas as pd\n",
    "import tensorflow as tf\n",
    "tf.compat.v1.logging.set_verbosity(tf.compat.v1.logging.ERROR)\n",
    "\n",
    "from collections import Counter\n",
    "from PIL import Image\n",
    "from itertools import groupby\n",
    "\n",
    "from IPython.display import display\n",
    "from random import randrange\n",
    "\n",
    "# import craft functions\n",
    "from craft_text_detector import (\n",
    "    read_image,\n",
    "    load_craftnet_model,\n",
    "    load_refinenet_model,\n",
    "    get_prediction,\n",
    "    export_detected_regions,\n",
    "    export_extra_results,\n",
    "    empty_cuda_cache\n",
    ")"
   ]
  },
  {
   "cell_type": "markdown",
   "metadata": {},
   "source": [
    "Preprocessing and sorting the extracted text"
   ]
  },
  {
   "cell_type": "code",
   "execution_count": 7,
   "metadata": {},
   "outputs": [],
   "source": [
    "def sorted_alphanumeric(data):\n",
    "    convert = lambda text: int(text) if text.isdigit() else text.lower()\n",
    "    alphanum_key = lambda key: [ convert(c) for c in re.split('([0-9]+)', key) ] \n",
    "    return sorted(data, key=alphanum_key) "
   ]
  },
  {
   "cell_type": "markdown",
   "metadata": {},
   "source": [
    "Detecting the text from the image "
   ]
  },
  {
   "cell_type": "code",
   "execution_count": 8,
   "metadata": {},
   "outputs": [],
   "source": [
    "def detector_recognizer(image_path):\n",
    "    data_folder ='Crops'\n",
    "    output_dir = 'Crop/'\n",
    "    \n",
    "    # read image\n",
    "    image = read_image(image_path)\n",
    "    # load models\n",
    "    refine_net = load_refinenet_model(cuda=False)\n",
    "    craft_net = load_craftnet_model(cuda=False)\n",
    "\n",
    "    # perform prediction\n",
    "    prediction_result = get_prediction(\n",
    "      image=image,\n",
    "      craft_net=craft_net,\n",
    "      refine_net=refine_net,\n",
    "      text_threshold=0.5,\n",
    "      link_threshold=0.2,\n",
    "      low_text=0.2,\n",
    "      #cuda=True,\n",
    "      long_size=1280\n",
    "    )\n",
    "\n",
    "    # export detected text regions\n",
    "    exported_file_paths = export_detected_regions(\n",
    "       image=image,\n",
    "       regions=prediction_result[\"boxes\"],\n",
    "       output_dir=output_dir,\n",
    "       rectify=True\n",
    "    )\n",
    "\n",
    "    empty_cuda_cache()\n",
    "    \n",
    "\n",
    "\n",
    "\n",
    "###################### tesseract  ###########################3\n",
    "\n",
    "    \n",
    "#     num = 1000000\n",
    "#     dirlist = sorted_alphanumeric(os.listdir(data_folder))\n",
    "    \n",
    "#     #for path in os.listdir(data_folder):\n",
    "#     for path in dirlist:\n",
    "#         #print(data_folder+\"/\"+path)\n",
    "#         # Load the image\n",
    "#         img = cv2.imread(data_folder+\"/\"+path)\n",
    "\n",
    "#         # Convert it to the gray-scale\n",
    "#         gry = cv2.cvtColor(img, cv2.COLOR_BGR2GRAY)\n",
    "\n",
    "#         pytesseract.pytesseract.tesseract_cmd = 'C:/Program Files/Tesseract-OCR/tesseract.exe'\n",
    "#         # OCR detection\n",
    "#         custom_config = r'--oem 3 --psm 6'\n",
    "\n",
    "#         d = pytesseract.image_to_data(gry, config=custom_config, output_type=pytesseract.Output.DICT)\n",
    "\n",
    "#         n_boxes = len(d['level'])\n",
    "\n",
    "#         for i in range(n_boxes): \n",
    "#             if d['text'][i] == '':\n",
    "#                 continue\n",
    "#             (x, y, w, h) = (d['left'][i], d['top'][i], d['width'][i], d['height'][i])\n",
    "\n",
    "#             cv2.rectangle(img, (x, y), (x+w, y+h), (255, 255, 0), 2)\n",
    "\n",
    "#             # Crop the image\n",
    "#             crp = gry[y:y+h, x:x+w] \n",
    "# #             if '{}'.format(num) == {}:\n",
    "# #                 cv2.imshow(\"img\", crp)\n",
    "# #                 cv2.waitKey(0)\n",
    "# #                 cv2.destroyWindow(\"img\")\n",
    "# #                 custom_config = r'--oem 3 --psm 10'\n",
    "# #                 text = tess.image_to_string(crp, config=custom_config, output_type=tess.Output.DICT,lang='eng')\n",
    "# #                 print(\"Number  Detected Plate Text : \",text)\n",
    "#             cv2.imwrite('Crop/image_crops/{}.png'.format(num), crp)\n",
    "#             print(num)\n",
    "#             num+=1 "
   ]
  },
  {
   "cell_type": "markdown",
   "metadata": {},
   "source": [
    "Reading the image"
   ]
  },
  {
   "cell_type": "code",
   "execution_count": 51,
   "metadata": {},
   "outputs": [
    {
     "name": "stdout",
     "output_type": "stream",
     "text": [
      "You selected: C:/Users/Mustafa/Downloads/th (1).jpg\n",
      "The file C:/Users/Mustafa/Downloads/th (1).jpg is an image file.\n"
     ]
    }
   ],
   "source": [
    "root = tk.Tk()\n",
    "def open_file_browser():\n",
    "    # Open a file browser and ask the user to select a file\n",
    "    file_path = filedialog.askopenfilename()  # Returns the selected file path\n",
    "    root.withdraw()\n",
    "    # If a file was selected, do something with the file_path\n",
    "    if file_path:\n",
    "        print(f\"You selected: {file_path}\")\n",
    "        # Create a Path object and get the suffix\n",
    "        ext = Path(file_path).suffix\n",
    "\n",
    "        # Check if the suffix is one of the common image file extensions\n",
    "        if ext.lower() in ['.jpg', '.jpeg', '.png', '.gif', '.bmp', '.tiff', '.webp']:\n",
    "            print(f\"The file {file_path} is an image file.\")\n",
    "            return file_path\n",
    "        else:\n",
    "            print(f\"The file {file_path} is not an image file.\")\n",
    "    else:\n",
    "        print(\"No file was selected.\")\n",
    "\n",
    "\n",
    "image_path = open_file_browser()\n",
    "root.destroy()"
   ]
  },
  {
   "cell_type": "code",
   "execution_count": 52,
   "metadata": {},
   "outputs": [],
   "source": [
    "detector_recognizer(image_path)"
   ]
  },
  {
   "cell_type": "markdown",
   "metadata": {},
   "source": [
    "Recognizing the detected text"
   ]
  },
  {
   "cell_type": "code",
   "execution_count": 53,
   "metadata": {},
   "outputs": [
    {
     "name": "stdout",
     "output_type": "stream",
     "text": [
      "Number  Detected Plate Text :  HR26D05551\n",
      "\f",
      "\n"
     ]
    }
   ],
   "source": [
    "img_path = \"Crop/image_crops/\"\n",
    "imgs_paths = os.listdir(\"Crop/image_crops\")\n",
    "custom_config = r'--oem 3 --psm 6'\n",
    "txt_dict = dict()\n",
    "for path in imgs_paths:\n",
    "    img = cv2.imread(img_path + path)\n",
    "    x = img.shape[0]\n",
    "    y = img.shape[1]\n",
    "    text = pytesseract.image_to_string(img, config=custom_config, output_type=pytesseract.Output.DICT,lang='eng')\n",
    "    img1 = cv2.imread(image_path)\n",
    "    txt = text.get('text')\n",
    "    txt_dict[txt] = len(txt)\n",
    "max_key = max(txt_dict, key=txt_dict.get)\n",
    "#print(type(txt))\n",
    "# Window name in which image is displayed\n",
    "window_title = 'Image'\n",
    "\n",
    "# font\n",
    "f = cv2.FONT_HERSHEY_SIMPLEX\n",
    "\n",
    "# point\n",
    "p = (x//2, y//2)\n",
    "\n",
    "# font Scale\n",
    "fScale = 1\n",
    "\n",
    "# Blue color in BGR\n",
    "c = (255, 0, 0)\n",
    "\n",
    "# Line thickness of 2 px\n",
    "t = 2\n",
    "\n",
    "# Using cv2.putText() method\n",
    "image = cv2.putText(img1, max_key, (p), f, \n",
    "                   fScale, c, t, cv2.LINE_AA)\n",
    "\n",
    "# Displaying the image\n",
    "cv2.imshow(window_title, img1) \n",
    "cv2.waitKey(0)\n",
    "cv2.destroyWindow(\"Image\")\n",
    "print(\"Number  Detected Plate Text : \",max_key)"
   ]
  }
 ],
 "metadata": {
  "kernelspec": {
   "display_name": "Python 3 (ipykernel)",
   "language": "python",
   "name": "python3"
  },
  "language_info": {
   "codemirror_mode": {
    "name": "ipython",
    "version": 3
   },
   "file_extension": ".py",
   "mimetype": "text/x-python",
   "name": "python",
   "nbconvert_exporter": "python",
   "pygments_lexer": "ipython3",
   "version": "3.9.13"
  }
 },
 "nbformat": 4,
 "nbformat_minor": 2
}
